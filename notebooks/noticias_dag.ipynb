{
 "cells": [
  {
   "cell_type": "code",
   "execution_count": 1,
   "metadata": {},
   "outputs": [],
   "source": [
    "import json\n",
    "import datetime\n",
    "from enum import Enum, auto\n",
    "\n",
    "from bs4 import BeautifulSoup\n",
    "import requests\n",
    "import functools"
   ]
  },
  {
   "cell_type": "code",
   "execution_count": 2,
   "metadata": {},
   "outputs": [],
   "source": [
    "class Journal(Enum):\n",
    "    EL_PAIS = auto()\n",
    "    ABC = auto()"
   ]
  },
  {
   "cell_type": "code",
   "execution_count": 3,
   "metadata": {},
   "outputs": [],
   "source": [
    "JOURNAL = Journal.EL_PAIS"
   ]
  },
  {
   "cell_type": "code",
   "execution_count": 4,
   "metadata": {},
   "outputs": [],
   "source": [
    "if JOURNAL == Journal.EL_PAIS:\n",
    "    url = \"https://elpais.com/espana/madrid/\"\n",
    "else:\n",
    "    url = \"https://www.abc.es/espana/madrid/?ref=https%3A%2F%2Fwww.abc.es%2Fespana%2Fmadrid%2F\"\n",
    "\n",
    "headers = {\n",
    "    \"User-Agent\": \"Mozilla/5.0 (Windows NT 10.0; Win64; x64) AppleWebKit/537.36 (KHTML, like Gecko) Chrome/111.0.0.0 Safari/537.36\"\n",
    "}\n",
    "response = requests.get(url, headers=headers)\n",
    "\n",
    "if response.status_code == 200:\n",
    "    html_content = response.text\n",
    "else:\n",
    "    print(\"Error: Unable to fetch the webpage.\")"
   ]
  },
  {
   "cell_type": "code",
   "execution_count": 5,
   "metadata": {},
   "outputs": [],
   "source": [
    "soup = BeautifulSoup(html_content, \"lxml\")"
   ]
  },
  {
   "cell_type": "code",
   "execution_count": 6,
   "metadata": {},
   "outputs": [],
   "source": [
    "@functools.cache\n",
    "def get_description(link_noticia: str):\n",
    "    headers = {\n",
    "        \"User-Agent\": \"Mozilla/5.0 (Windows NT 10.0; Win64; x64) AppleWebKit/537.36 (KHTML, like Gecko) Chrome/111.0.0.0 Safari/537.36\"\n",
    "    }\n",
    "    response = requests.get(link_noticia, headers=headers)\n",
    "    if response.status_code == 200:\n",
    "        html_content = response.text\n",
    "        soup = BeautifulSoup(html_content, \"lxml\")\n",
    "        description = soup.find(\"h2\")\n",
    "        return description.text.strip()\n",
    "    else:\n",
    "        return \"Error: Unable to fetch the webpage.\""
   ]
  },
  {
   "cell_type": "code",
   "execution_count": 7,
   "metadata": {},
   "outputs": [],
   "source": [
    "def get_date_from_link(link_noticia: str, journal: Journal):\n",
    "    if journal == Journal.EL_PAIS:\n",
    "        # Example link:\n",
    "        # https://elpais.com/espana/madrid/2024-04-02/nombre-noticia.html\n",
    "        date_str = link_noticia.split(\"/\")[-2]\n",
    "        return date_str\n",
    "    else:\n",
    "        # Example link:\n",
    "        # https://www.abc.es/espana/madrid/nombre-noticia-20240402180803-nt.html\n",
    "        last_part = link_noticia.split(\"/\")[-1]\n",
    "        date_str_and_code = last_part.split(\"-\")[-2]\n",
    "        date_str = date_str_and_code[:8]\n",
    "        # format to YYYY-MM-DD\n",
    "        date = datetime.datetime.strptime(date_str, \"%Y%m%d\")\n",
    "        date_str = date.strftime(\"%Y-%m-%d\")\n",
    "        return date_str"
   ]
  },
  {
   "cell_type": "code",
   "execution_count": 8,
   "metadata": {},
   "outputs": [
    {
     "data": {
      "text/plain": [
       "[{'title': 'El secretario general del PP de Ayuso se citó con la pareja de la líder en plena polémica por su caso de fraude fiscal',\n",
       "  'link': 'https://elpais.com/espana/madrid/2024-04-04/el-secretario-general-del-pp-de-ayuso-se-cito-con-la-pareja-de-la-lider-en-plena-polemica-por-su-caso-de-fraude-fiscal.html',\n",
       "  'description': 'Aunque los conservadores reducen la denuncia de la Fiscalía a un asunto que afecta a un particular, altos cargos del partido y del Gobierno se han implicado en la gestión de la crisis política y reputacional'},\n",
       " {'title': 'Ayuso se apunta al ‘y tú más’ para defender a su pareja: “Si empezamos con inspecciones en la izquierda, se caen abajo la mitad”',\n",
       "  'link': 'https://elpais.com/espana/madrid/2024-04-04/ayuso-se-apunta-al-y-tu-mas-para-defender-a-su-pareja-si-empezamos-con-inspecciones-en-la-izquierda-se-caen-abajo-la-mitad.html',\n",
       "  'description': 'La presidenta de Madrid, que negó que su novio hubiera cometido cualquier delito, lo admite ahora implícitamente en un tenso intercambio con la oposición'},\n",
       " {'title': 'El PP de Ayuso reduce a “una gotera” la inundación de aguas fecales provocada por las obras sin permiso en la casa donde vive',\n",
       "  'link': 'https://elpais.com/espana/madrid/2024-04-04/el-pp-de-ayuso-reduce-a-una-gotera-la-inundacion-de-aguas-fecales-provocada-por-las-obras-sin-permiso-en-la-casa-donde-vive.html',\n",
       "  'description': 'La presidenta de Madrid y su partido minusvaloran la noticia de EL PAÍS sobre las reformas sin autorización en el apartamento, que según la normativa urbanística pueden ser castigadas como una infracción muy grave'},\n",
       " {'title': 'La instructora del ‘caso Monasterio’ propone sancionar a la líder de Vox con 15 días de sueldo por votar dos veces en la misma iniciativa',\n",
       "  'link': 'https://elpais.com/espana/madrid/2024-04-04/la-instructora-del-caso-monasterio-propone-sancionarla-con-15-dias-de-sueldo-por-su-voto-fantasma.html',\n",
       "  'description': 'EL PAÍS accede al expediente que la Mesa debatirá este viernes y que culpa a la portavoz de emitir un ‘voto fantasma’ en el pleno del 1 de febrero'},\n",
       " {'title': 'El novio de Ayuso ofreció pagar más de 380.000 euros para evitar la cárcel por sus engaños a Hacienda',\n",
       "  'link': 'https://elpais.com/espana/madrid/2024-04-04/el-novio-de-ayuso-ofrecio-pagar-mas-de-380000-euros-para-evitar-la-carcel-por-sus-enganos-a-hacienda.html',\n",
       "  'description': 'González Amador sostiene que pidió el acuerdo para librarse de prisión porque era la pareja de la presidenta de la Comunidad de Madrid y quería evitar “un efecto deformador de las garantías procesales”'},\n",
       " {'title': '‘Podcast’ | Qué, quiénes y cómo: estado de la cuestión del ‘caso Ayuso’',\n",
       "  'link': 'https://elpais.com/podcasts/hoy-en-el-pais/2024-04-04/podcast-que-quienes-y-como-estado-de-la-cuestion-del-caso-ayuso.html',\n",
       "  'description': 'La investigación a la pareja de la presidenta de la Comunidad de Madrid ha ido a más con tres derivadas: el fraude fiscal y la falsedad documental, la reforma del piso en el que viven ambos, y el hostigamiento a la prensa de Miguel Ángel Rodríguez'},\n",
       " {'title': 'El rescate de una tapa de un trofeo moviliza seis vehículos de bomberos que realizaron inmersiones prohibidas en el Retiro',\n",
       "  'link': 'https://elpais.com/espana/madrid/2024-04-04/el-rescate-de-una-tapa-de-un-trofeo-moviliza-seis-dotaciones-de-bomberos-que-realizaron-inmersiones-prohibidas-en-el-retiro.html',\n",
       "  'description': 'La pieza pertenece a la final de las Series Mundiales de Rugby a 7, que se disputarán en Madrid los próximos tres años gracias a un convenio entre la federación internacional y el Ayuntamiento'},\n",
       " {'title': 'Ayuso rectifica y no premiará con rebajas fiscales de miles de euros a quienes se muden a Madrid desde el extranjero y compren una casa',\n",
       "  'link': 'https://elpais.com/espana/madrid/2024-04-04/ayuso-rectifica-y-no-premiara-con-rebajas-fiscales-de-miles-de-euros-a-quienes-se-muden-a-madrid-desde-el-extranjero-y-compren-una-casa.html',\n",
       "  'description': 'El plan, diseñado para contrarrestar el impuesto estatal a las grandes fortunas, se limita a inversiones financieras y así reduce en 185 millones el golpe presupuestario'}]"
      ]
     },
     "execution_count": 8,
     "metadata": {},
     "output_type": "execute_result"
    }
   ],
   "source": [
    "titles = soup.find_all(\"h2\")\n",
    "\n",
    "data = []\n",
    "today = datetime.datetime.now().strftime(\"%Y-%m-%d\")\n",
    "for title in titles:\n",
    "    a = title.find(\"a\")\n",
    "    if a is None:\n",
    "        continue\n",
    "    link = a[\"href\"]\n",
    "    date_from_link = get_date_from_link(link, JOURNAL)\n",
    "    if date_from_link != today:\n",
    "        continue\n",
    "    noticia = {}\n",
    "    noticia[\"title\"] = title.text.strip()\n",
    "    noticia[\"link\"] = link\n",
    "    noticia[\"description\"] = get_description(noticia[\"link\"])\n",
    "    data.append(noticia)\n",
    "data"
   ]
  },
  {
   "cell_type": "code",
   "execution_count": 9,
   "metadata": {},
   "outputs": [],
   "source": [
    "with open(\n",
    "    f\"noticias_{datetime.datetime.now().strftime('%Y-%m-%d')}.json\",\n",
    "    \"w\",\n",
    "    encoding=\"utf-8\",\n",
    ") as f:\n",
    "    json.dump(data, f, indent=2, ensure_ascii=False)"
   ]
  },
  {
   "cell_type": "code",
   "execution_count": 10,
   "metadata": {},
   "outputs": [],
   "source": [
    "with open(\"noticias_2024-04-03.json\", \"r\", encoding=\"utf-8\") as f:\n",
    "    load_data = json.load(f)"
   ]
  },
  {
   "cell_type": "code",
   "execution_count": 11,
   "metadata": {},
   "outputs": [
    {
     "data": {
      "text/plain": [
       "[{'title': 'Quince heridos, dos graves, tras chocar un autobús contra un muro en Valdemoro, Madrid',\n",
       "  'link': 'https://www.abc.es/espana/madrid/quince-heridos-dos-graves-tras-chocar-autobus-20240403100448-nt.html',\n",
       "  'description': 'El siniestro se ha producido en torno a las 7.20 horas de este miércoles'},\n",
       " {'title': 'El Palacio de Madrid similar al de Versalles que casi nadie conoce y se puede visitar: donde está y cómo llegar',\n",
       "  'link': 'https://www.abc.es/espana/madrid/palacio-madrid-similar-versalles-conoce-puede-visitar-20240403060000-nt.html',\n",
       "  'description': 'Se trata de una edificación construida hace más de 200 años pero que se mantiene en excelente estado de conservación'}]"
      ]
     },
     "execution_count": 11,
     "metadata": {},
     "output_type": "execute_result"
    }
   ],
   "source": [
    "load_data"
   ]
  },
  {
   "cell_type": "code",
   "execution_count": null,
   "metadata": {},
   "outputs": [],
   "source": []
  }
 ],
 "metadata": {
  "kernelspec": {
   "display_name": "dags-kq0k7LWn-py3.11",
   "language": "python",
   "name": "python3"
  },
  "language_info": {
   "codemirror_mode": {
    "name": "ipython",
    "version": 3
   },
   "file_extension": ".py",
   "mimetype": "text/x-python",
   "name": "python",
   "nbconvert_exporter": "python",
   "pygments_lexer": "ipython3",
   "version": "3.11.8"
  }
 },
 "nbformat": 4,
 "nbformat_minor": 2
}
