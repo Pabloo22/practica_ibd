{
 "cells": [
  {
   "cell_type": "code",
   "execution_count": 1,
   "metadata": {},
   "outputs": [
    {
     "name": "stderr",
     "output_type": "stream",
     "text": [
      "/home/pablo/.cache/pypoetry/virtualenvs/dags-kq0k7LWn-py3.11/lib/python3.11/site-packages/tqdm/auto.py:21: TqdmWarning: IProgress not found. Please update jupyter and ipywidgets. See https://ipywidgets.readthedocs.io/en/stable/user_install.html\n",
      "  from .autonotebook import tqdm as notebook_tqdm\n",
      "/home/pablo/.cache/pypoetry/virtualenvs/dags-kq0k7LWn-py3.11/lib/python3.11/site-packages/torch/cuda/__init__.py:619: UserWarning: Can't initialize NVML\n",
      "  warnings.warn(\"Can't initialize NVML\")\n"
     ]
    },
    {
     "data": {
      "text/plain": [
       "[{'label': 'LABEL_0', 'score': 0.5735620260238647}]"
      ]
     },
     "execution_count": 1,
     "metadata": {},
     "output_type": "execute_result"
    }
   ],
   "source": [
    "from transformers import pipeline\n",
    "\n",
    "model_ckpt = \"mrm8488/electricidad-small-finetuned-sst2-es\"\n",
    "\n",
    "classifier = pipeline(\"sentiment-analysis\", model=model_ckpt)\n",
    "\n",
    "classifier(\"Here your text in Spanish!\")"
   ]
  },
  {
   "cell_type": "code",
   "execution_count": 7,
   "metadata": {},
   "outputs": [
    {
     "name": "stdout",
     "output_type": "stream",
     "text": [
      "sentiment: -0.9271043539047241\n"
     ]
    }
   ],
   "source": [
    "label, score = classifier(\n",
    "    \"Las violaciones se disparan un 27% en Madrid durante los tres primeros meses de 2024\"\n",
    ")[0].values()\n",
    "\n",
    "# Change to the range [-1, 1] (prob_pos - prob_neg)\n",
    "if label == \"LABEL_0\":\n",
    "    negative_probability = score\n",
    "    positive_probability = 1 - score\n",
    "else:\n",
    "    positive_probability = score\n",
    "    negative_probability = 1 - score\n",
    "\n",
    "print(f\"sentiment: {positive_probability - negative_probability}\")"
   ]
  },
  {
   "cell_type": "code",
   "execution_count": 4,
   "metadata": {},
   "outputs": [
    {
     "data": {
      "text/plain": [
       "[{'label': 'LABEL_1', 'score': 0.7331088781356812}]"
      ]
     },
     "execution_count": 4,
     "metadata": {},
     "output_type": "execute_result"
    }
   ],
   "source": [
    "classifier(\n",
    "    \"El Ministerio de Transportes adjudica el tercer carril en la A-1 entre el RACE y San Agustín de Guadalix\"\n",
    ")"
   ]
  },
  {
   "cell_type": "code",
   "execution_count": null,
   "metadata": {},
   "outputs": [],
   "source": []
  }
 ],
 "metadata": {
  "kernelspec": {
   "display_name": "dags-kq0k7LWn-py3.11",
   "language": "python",
   "name": "python3"
  },
  "language_info": {
   "codemirror_mode": {
    "name": "ipython",
    "version": 3
   },
   "file_extension": ".py",
   "mimetype": "text/x-python",
   "name": "python",
   "nbconvert_exporter": "python",
   "pygments_lexer": "ipython3",
   "version": "3.11.8"
  }
 },
 "nbformat": 4,
 "nbformat_minor": 2
}
