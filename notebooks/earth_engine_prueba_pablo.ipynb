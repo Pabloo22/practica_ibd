{
 "cells": [
  {
   "cell_type": "code",
   "execution_count": null,
   "metadata": {},
   "outputs": [],
   "source": [
    "# Import the Earth Engine Python API\n",
    "import ee\n",
    "\n",
    "# Authenticate the Earth Engine API\n",
    "ee.Authenticate()\n",
    "\n",
    "# Initialize the Earth Engine API\n",
    "ee.Initialize()"
   ]
  },
  {
   "cell_type": "code",
   "execution_count": null,
   "metadata": {},
   "outputs": [],
   "source": [
    "# Define the area of interest - Spain\n",
    "spain = ee.FeatureCollection(\"USDOS/LSIB_SIMPLE/2017\").filter(\n",
    "    ee.Filter.eq(\"country_na\", \"Spain\")\n",
    ")\n",
    "\n",
    "# Define the time range\n",
    "start_date = \"2020-01-01\"\n",
    "end_date = \"2020-12-31\"\n",
    "\n",
    "# Load the Global Forest Change dataset\n",
    "gfc2020 = ee.Image(\"UMD/hansen/global_forest_change_2020_v1_8\")\n",
    "\n",
    "# Select 'loss' band (1=loss, 0=no loss) and clip to Spain\n",
    "forest_loss = gfc2020.select([\"loss\"]).clip(spain)\n",
    "\n",
    "# Define visualization parameters\n",
    "vis_params = {\"bands\": [\"loss\"], \"min\": 0, \"max\": 1, \"palette\": [\"red\"]}\n",
    "\n",
    "# Use folium to visualize the data (optional, for Jupyter Notebooks)\n",
    "import folium\n",
    "\n",
    "\n",
    "def add_ee_layer(self, ee_image_object, vis_params, name):\n",
    "    map_id_dict = ee.Image(ee_image_object).getMapId(vis_params)\n",
    "    folium.raster_layers.TileLayer(\n",
    "        tiles=map_id_dict[\"tile_fetcher\"].url_format,\n",
    "        attr=\"Map Data © Google Earth Engine\",\n",
    "        name=name,\n",
    "        overlay=True,\n",
    "        control=True,\n",
    "    ).add_to(self)\n",
    "\n",
    "\n",
    "folium.Map.add_ee_layer = add_ee_layer\n",
    "\n",
    "# Create a folium map object.\n",
    "my_map = folium.Map(location=[40.4637, -3.7492], zoom_start=6)\n",
    "my_map.add_ee_layer(forest_loss, vis_params, \"Forest Loss\")\n",
    "\n",
    "# Display the map\n",
    "display(my_map)"
   ]
  }
 ],
 "metadata": {
  "language_info": {
   "name": "python"
  }
 },
 "nbformat": 4,
 "nbformat_minor": 2
}
