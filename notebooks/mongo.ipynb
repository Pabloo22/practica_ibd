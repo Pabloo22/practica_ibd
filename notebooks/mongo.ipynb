{
 "cells": [
  {
   "cell_type": "code",
   "execution_count": 5,
   "metadata": {},
   "outputs": [],
   "source": [
    "from pymongo import MongoClient\n",
    "import json"
   ]
  },
  {
   "cell_type": "code",
   "execution_count": 6,
   "metadata": {},
   "outputs": [],
   "source": [
    "def get_db(db_name=\"noticias_db\"):\n",
    "    \"\"\"Conecta al servidor MongoDB que se ejecuta en localhost en el\n",
    "    puerto 27017, selecciona la base de datos dungeons y la devuelve.\"\"\"\n",
    "    client = MongoClient(\"localhost\", 27017)\n",
    "    db = client[db_name]\n",
    "    return db\n",
    "\n",
    "\n",
    "def run_query(\n",
    "    filter, project, collection_name=\"noticias\", db_name=\"noticias_db\"\n",
    "):\n",
    "    \"\"\"Ejecuta una query genérica en la colección collection_name de la\n",
    "    base de datos db_name.\n",
    "\n",
    "    Args:\n",
    "        filter: El filtro para buscar documentos (equivalente a\n",
    "            la cláusula WHERE en SQL).\n",
    "        project: La proyección para seleccionar qué campos incluir\n",
    "            (equivalente a SELECT en SQL).\n",
    "        collection_name: El nombre de la colección en la que se\n",
    "            ejecutará la query.\n",
    "        db_name: El nombre de la base de datos en la que se ejecutará\n",
    "            la query.\n",
    "\n",
    "    Returns:\n",
    "        Un diccionario o lista de diccionarios con los resultados de la query.\n",
    "    \"\"\"\n",
    "    db = get_db(db_name)\n",
    "    result = db[collection_name].find(filter, project)\n",
    "    result_list = list(result)\n",
    "    result_json = json.dumps(result_list)\n",
    "    result_json = json.loads(result_json)\n",
    "    db.client.close()\n",
    "    return result_json"
   ]
  },
  {
   "cell_type": "code",
   "execution_count": 7,
   "metadata": {},
   "outputs": [
    {
     "data": {
      "text/plain": [
       "[]"
      ]
     },
     "execution_count": 7,
     "metadata": {},
     "output_type": "execute_result"
    }
   ],
   "source": [
    "run_query({}, {\"_id\": 0, \"journal\": 0, \"link\": 0, \"description\": 0})"
   ]
  },
  {
   "cell_type": "code",
   "execution_count": 10,
   "metadata": {},
   "outputs": [
    {
     "name": "stdout",
     "output_type": "stream",
     "text": [
      "News with title 'Cortado parte del paseo de La Castellana de Madrid por una fuga de gas en las obras del parking del Bernabéu' already exists.\n",
      "News with title '“Trastornos”, “autolesiones”, el desgarro de 139 discapacitados desahuciados de su centro de toda la vida' already exists.\n",
      "News with title 'La metástasis del turismo y la vecinofobia' already exists.\n",
      "News with title 'Una fuga de gas provoca el corte del paseo de la Castellana y del Metro' already exists.\n",
      "News with title '«Tenía un ático con vistas 360º y ahora solo veo un paredón»: los pisos de Coslada encerrados por sorpresa' already exists.\n",
      "News with title 'La Policía analiza el ADN de ropa hallada en la calle por si pertenece al bebé muerto en Barajas' already exists.\n",
      "News with title 'Fuga de gas en Madrid, en directo: cortes de tráfico, afecciones en trenes, Metro y última hora de las zonas afectadas hoy' already exists.\n",
      "News with title 'Buscan trabajadores en un pueblo de Madrid: ofrece casa gratis, sueldo y gastos de luz y agua incluidos' already exists.\n",
      "News with title 'El PP de Ayuso veta a expertos que defienden que 4.000 ancianos pudieron haberse salvado en la crisis de las residencias' already exists.\n",
      "News with title 'La jueza suspende la declaración de la pareja de Ayuso hasta el 24 de junio' already exists.\n",
      "News with title 'El mapa de las únicas 1.008 viviendas de uso turístico con licencia en Madrid' already exists.\n",
      "News with title 'Un joven sufre la semiamputación de una pierna al ser arrollado por un coche en Madrid' already exists.\n",
      "News with title 'El Ayuntamiento de Madrid soterrará al completo la A-5 y la primera fase se adjudicará en julio' already exists.\n",
      "News with title 'El PSOE de Madrid lleva una declaración a la Asamblea para defender a Sánchez frente a Milei' already exists.\n",
      "News with title 'Las violaciones se disparan un 27% en Madrid durante los tres primeros meses de 2024' already exists.\n",
      "News with title 'Dos heridos, uno crítico, en atropellos ocurridos en distintos puntos de Madrid a la misma hora' already exists.\n",
      "News with title 'El Ministerio de Transportes adjudica el tercer carril en la A-1 entre el RACE y San Agustín de Guadalix' already exists.\n",
      "News with title 'Madrid publica el mapa de sus 1.008 pisos turísticos legales y retrata a los miles de hospedajes pirata' already exists.\n",
      "News with title 'Herido grave un joven de 25 años al ser atropellado por un turismo en Ciudad Lineal' already exists.\n",
      "News with title 'Los conductores de la EMT tendrán casi un centenar de aseos privados' already exists.\n",
      "News with title 'Lobato cambia de estrategia al no hacer mella en Ayuso y busca ser un 'Illa' en Madrid' already exists.\n",
      "News with title 'De toros, por variar' already exists.\n",
      "News with title 'Moscardó, el barrio de Madrid donde las horas pasan más artísticas y naturales' already exists.\n",
      "News with title 'Detenido un hombre por intentar apuñalar a su mujer para impedir que trabajara en un bazar' already exists.\n"
     ]
    }
   ],
   "source": [
    "OUTPUT_PATH = \"../rich/noticias_with_sentiment.json\"\n",
    "db = get_db()\n",
    "collection = db[\"noticias\"]\n",
    "\n",
    "# Read the transformed JSON files from the rich folder\n",
    "with open(\n",
    "    OUTPUT_PATH,\n",
    "    \"r\",\n",
    "    encoding=\"utf-8\",\n",
    ") as f:\n",
    "    data = json.load(f)\n",
    "    for item in data:\n",
    "        # Check if news with the same title already exist (if so, update them)\n",
    "        existing_news = collection.find_one({\"title\": item[\"title\"]})\n",
    "        if existing_news:\n",
    "            # Update the existing news item\n",
    "            # collection.update_one({\"title\": item[\"title\"]}, {\"$set\": item})\n",
    "            print(f\"News with title '{item['title']}' already exists.\")\n",
    "        else:\n",
    "            # Insert the new news item\n",
    "            # collection.insert_one(item)\n",
    "            print(f\"News with title '{item['title']}' inserted.\")"
   ]
  },
  {
   "cell_type": "code",
   "execution_count": null,
   "metadata": {},
   "outputs": [],
   "source": []
  }
 ],
 "metadata": {
  "kernelspec": {
   "display_name": "dags-kq0k7LWn-py3.11",
   "language": "python",
   "name": "python3"
  },
  "language_info": {
   "codemirror_mode": {
    "name": "ipython",
    "version": 3
   },
   "file_extension": ".py",
   "mimetype": "text/x-python",
   "name": "python",
   "nbconvert_exporter": "python",
   "pygments_lexer": "ipython3",
   "version": "3.11.8"
  }
 },
 "nbformat": 4,
 "nbformat_minor": 2
}
