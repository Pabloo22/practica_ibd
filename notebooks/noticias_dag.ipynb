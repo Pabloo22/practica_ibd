{
 "cells": [
  {
   "cell_type": "code",
   "execution_count": 1,
   "metadata": {},
   "outputs": [],
   "source": [
    "import json\n",
    "import datetime\n",
    "\n",
    "from bs4 import BeautifulSoup\n",
    "import requests\n",
    "import functools"
   ]
  },
  {
   "cell_type": "code",
   "execution_count": 2,
   "metadata": {},
   "outputs": [],
   "source": [
    "url = \"https://elpais.com/espana/madrid/\"\n",
    "\n",
    "response = requests.get(url)\n",
    "\n",
    "if response.status_code == 200:\n",
    "    html_content = response.text\n",
    "else:\n",
    "    print(\"Error: Unable to fetch the webpage.\")"
   ]
  },
  {
   "cell_type": "code",
   "execution_count": 3,
   "metadata": {},
   "outputs": [],
   "source": [
    "soup = BeautifulSoup(html_content, \"lxml\")"
   ]
  },
  {
   "cell_type": "code",
   "execution_count": 4,
   "metadata": {},
   "outputs": [],
   "source": [
    "@functools.cache\n",
    "def get_description(link_noticia: str):\n",
    "    response = requests.get(link_noticia)\n",
    "    if response.status_code == 200:\n",
    "        html_content = response.text\n",
    "        soup = BeautifulSoup(html_content, \"lxml\")\n",
    "        description = soup.find(\"h2\", attrs={\"class\": \"a_st\"})\n",
    "        return description.text.strip()\n",
    "    else:\n",
    "        return \"Error: Unable to fetch the webpage.\""
   ]
  },
  {
   "cell_type": "code",
   "execution_count": 5,
   "metadata": {},
   "outputs": [
    {
     "data": {
      "text/plain": [
       "'2024-04-03'"
      ]
     },
     "execution_count": 5,
     "metadata": {},
     "output_type": "execute_result"
    }
   ],
   "source": [
    "datetime.datetime.now().strftime(\"%Y-%m-%d\")"
   ]
  },
  {
   "cell_type": "code",
   "execution_count": 6,
   "metadata": {},
   "outputs": [
    {
     "data": {
      "text/plain": [
       "[{'title': 'Así vetó el PP de Ayuso que MAR diera la cara en la Asamblea por sus presiones a periodistas: “[Es] una reprobación encubierta con juicio de valor”',\n",
       "  'link': 'https://elpais.com/espana/madrid/2024-04-03/asi-veto-el-pp-de-ayuso-que-mar-diera-la-cara-en-la-asamblea-por-sus-presiones-a-periodistas-es-una-reprobacion-encubierta-con-juicio-de-valor.html',\n",
       "  'description': 'EL PAÍS reconstruye la reunión en la que el PP evitó las comparecencias del alto cargo, una decisión que la oposición está dispuesta a llevar hasta el Constitucional'},\n",
       " {'title': 'Quince heridos al chocar un autobús municipal contra un muro en Valdemoro',\n",
       "  'link': 'https://elpais.com/espana/madrid/2024-04-03/quince-heridos-al-chocar-un-autobus-municipal-contra-un-muro-en-valdemoro.html',\n",
       "  'description': 'De las víctimas, las más graves son una pasajera de 62 años y la conductora, de 58'}]"
      ]
     },
     "execution_count": 6,
     "metadata": {},
     "output_type": "execute_result"
    }
   ],
   "source": [
    "titles = soup.find_all(\"h2\", attrs={\"class\": \"c_t\"})\n",
    "\n",
    "data = []\n",
    "today = datetime.datetime.now().strftime(\"%Y-%m-%d\")\n",
    "for title in titles:\n",
    "    link = title.find(\"a\")[\"href\"]\n",
    "    # Example link:\n",
    "    # https://elpais.com/espana/madrid/2024-04-02/nombre-noticia.html\n",
    "    date_from_link = link.split(\"/\")[-2]\n",
    "    if date_from_link != today:\n",
    "        continue\n",
    "    noticia = {}\n",
    "    noticia[\"title\"] = title.text.strip()\n",
    "    noticia[\"link\"] = link\n",
    "    noticia[\"description\"] = get_description(noticia[\"link\"])\n",
    "    data.append(noticia)\n",
    "data"
   ]
  },
  {
   "cell_type": "code",
   "execution_count": 7,
   "metadata": {},
   "outputs": [],
   "source": [
    "with open(\n",
    "    f\"noticias_{datetime.datetime.now().strftime('%Y-%m-%d')}.json\",\n",
    "    \"w\",\n",
    "    encoding=\"utf-8\",\n",
    ") as f:\n",
    "    json.dump(data, f, indent=2, ensure_ascii=False)"
   ]
  },
  {
   "cell_type": "code",
   "execution_count": 8,
   "metadata": {},
   "outputs": [],
   "source": [
    "with open(\"noticias_2024-04-03.json\", \"r\", encoding=\"utf-8\") as f:\n",
    "    load_data = json.load(f)"
   ]
  },
  {
   "cell_type": "code",
   "execution_count": 9,
   "metadata": {},
   "outputs": [
    {
     "data": {
      "text/plain": [
       "[{'title': 'Así vetó el PP de Ayuso que MAR diera la cara en la Asamblea por sus presiones a periodistas: “[Es] una reprobación encubierta con juicio de valor”',\n",
       "  'link': 'https://elpais.com/espana/madrid/2024-04-03/asi-veto-el-pp-de-ayuso-que-mar-diera-la-cara-en-la-asamblea-por-sus-presiones-a-periodistas-es-una-reprobacion-encubierta-con-juicio-de-valor.html',\n",
       "  'description': 'EL PAÍS reconstruye la reunión en la que el PP evitó las comparecencias del alto cargo, una decisión que la oposición está dispuesta a llevar hasta el Constitucional'},\n",
       " {'title': 'Quince heridos al chocar un autobús municipal contra un muro en Valdemoro',\n",
       "  'link': 'https://elpais.com/espana/madrid/2024-04-03/quince-heridos-al-chocar-un-autobus-municipal-contra-un-muro-en-valdemoro.html',\n",
       "  'description': 'De las víctimas, las más graves son una pasajera de 62 años y la conductora, de 58'}]"
      ]
     },
     "execution_count": 9,
     "metadata": {},
     "output_type": "execute_result"
    }
   ],
   "source": [
    "load_data"
   ]
  },
  {
   "cell_type": "code",
   "execution_count": null,
   "metadata": {},
   "outputs": [],
   "source": []
  }
 ],
 "metadata": {
  "kernelspec": {
   "display_name": "dags-kq0k7LWn-py3.11",
   "language": "python",
   "name": "python3"
  },
  "language_info": {
   "codemirror_mode": {
    "name": "ipython",
    "version": 3
   },
   "file_extension": ".py",
   "mimetype": "text/x-python",
   "name": "python",
   "nbconvert_exporter": "python",
   "pygments_lexer": "ipython3",
   "version": "3.11.8"
  }
 },
 "nbformat": 4,
 "nbformat_minor": 2
}
